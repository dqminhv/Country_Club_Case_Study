{
 "cells": [
  {
   "cell_type": "code",
   "execution_count": null,
   "id": "7480b671",
   "metadata": {},
   "outputs": [],
   "source": [
    "import sqlite3\n",
    "from sqlite3 import Error\n",
    "\n",
    " \n",
    "def create_connection(db_file):\n",
    "    \"\"\" create a database connection to the SQLite database\n",
    "        specified by the db_file\n",
    "    :param db_file: database file\n",
    "    :return: Connection object or None\n",
    "    \"\"\"\n",
    "    conn = None\n",
    "    try:\n",
    "        conn = sqlite3.connect(db_file)\n",
    "        print(sqlite3.version)\n",
    "    except Error as e:\n",
    "        print(e)\n",
    " \n",
    "    return conn\n",
    "\n",
    " \n",
    "def select_all_tasks(conn):\n",
    "    \"\"\"\n",
    "    Query all rows in the tasks table\n",
    "    :param conn: the Connection object\n",
    "    :return:\n",
    "    \"\"\"\n",
    "    cur = conn.cursor()\n",
    "    \n",
    "    query1 = \"\"\"\n",
    "        SELECT *\n",
    "        FROM FACILITIES\n",
    "        \"\"\"\n",
    "    cur.execute(query1)\n",
    " \n",
    "    rows = cur.fetchall()\n",
    " \n",
    "    for row in rows:\n",
    "        print(row)\n",
    "\n",
    "\n",
    "def main():\n",
    "    database = \"sqlite_db_pythonsqlite.db\"\n",
    " \n",
    "    # create a database connection\n",
    "    conn = create_connection(database)\n",
    "    with conn: \n",
    "        print(\"2. Query all tasks\")\n",
    "        select_all_tasks(conn)\n",
    " \n",
    " \n",
    "if __name__ == '__main__':\n",
    "    main()"
   ]
  },
  {
   "cell_type": "code",
   "execution_count": null,
   "id": "781b4ecf",
   "metadata": {},
   "outputs": [],
   "source": [
    "import pandas as pd\n",
    "# Create your connection.\n",
    "cn = sqlite3.connect('sqlite_db_pythonsqlite.db')"
   ]
  },
  {
   "cell_type": "code",
   "execution_count": null,
   "id": "e4fc1e35",
   "metadata": {},
   "outputs": [],
   "source": [
    "#sql query for question 10\n",
    "q10 = \"\"\"SELECT * FROM\n",
    "(SELECT subquery.facility_name, SUM(subquery.booking_cost) AS total_rev\n",
    "FROM (SELECT  \n",
    "    f.name AS facility_name,\n",
    "    CASE WHEN b.memid = 0 THEN f.guestcost*b.slots\n",
    "    \tELSE f.membercost*b.slots END\n",
    "    \tAS booking_cost\n",
    "FROM Bookings AS b\n",
    "INNER JOIN Members AS m ON b.memid = m.memid\n",
    "INNER JOIN Facilities AS f ON b.facid = f.facid) AS subquery\n",
    "GROUP BY subquery.facility_name) AS subquery2\n",
    "WHERE subquery2.total_rev > 1000\n",
    "ORDER BY subquery2.total_rev \"\"\"\n",
    "df_q10 = pd.read_sql_query(q10, cn)"
   ]
  },
  {
   "cell_type": "code",
   "execution_count": null,
   "id": "ee35bc22",
   "metadata": {},
   "outputs": [],
   "source": [
    "print(df_q10)"
   ]
  },
  {
   "cell_type": "code",
   "execution_count": null,
   "id": "d22f61e0",
   "metadata": {},
   "outputs": [],
   "source": [
    "#sql query for question 11\n",
    "q11 = \"\"\"SELECT m1.memid, CONCAT(m1.surname, \", \" ,m1.firstname) AS member_name, \n",
    "            CASE WHEN m2.surname = \"GUEST\" THEN \"\"\n",
    "    \t\tELSE CONCAT(m2.surname, \", \" ,m2.firstname) END AS recommendedby_name\n",
    "        FROM Members AS m1\n",
    "        INNER JOIN Members AS m2\n",
    "        ON CAST(m1.recommendedby AS INT) = m2.memid\n",
    "        ORDER BY member_name\"\"\"\n",
    "df_q11 = pd.read_sql_query(q11, cn)\n",
    "print(df_q11)"
   ]
  },
  {
   "cell_type": "code",
   "execution_count": null,
   "id": "8b0a5b27",
   "metadata": {},
   "outputs": [],
   "source": [
    "#sql query for question 12\n",
    "q12 = \"\"\"SELECT facid, f.name AS facility_name\n",
    "FROM Facilities AS f\n",
    "WHERE facid NOT IN \n",
    "    (SELECT facid FROM `Bookings`\n",
    "    WHERE memid = 0\n",
    "    GROUP BY facid)\"\"\"\n",
    "df_q12 = pd.read_sql_query(q12, cn)\n",
    "print(df_q12)"
   ]
  },
  {
   "cell_type": "code",
   "execution_count": null,
   "id": "afb3967c",
   "metadata": {},
   "outputs": [],
   "source": [
    "#sql query for question 13\n",
    "q13 = \"\"\"SELECT b.facid, f.name AS facility_name, EXTRACT(MONTH FROM starttime) as month, SUM(slots) AS useage\n",
    "FROM Bookings AS b\n",
    "INNER JOIN Facilities AS f USING (facid)\n",
    "WHERE memid <> 0\n",
    "GROUP BY b.facid, month\"\"\"\n",
    "df_q13 = pd.read_sql_query(q13, cn)\n",
    "print(df_q13)"
   ]
  }
 ],
 "metadata": {
  "kernelspec": {
   "display_name": "Python 3 (ipykernel)",
   "language": "python",
   "name": "python3"
  },
  "language_info": {
   "codemirror_mode": {
    "name": "ipython",
    "version": 3
   },
   "file_extension": ".py",
   "mimetype": "text/x-python",
   "name": "python",
   "nbconvert_exporter": "python",
   "pygments_lexer": "ipython3",
   "version": "3.10.9"
  }
 },
 "nbformat": 4,
 "nbformat_minor": 5
}
